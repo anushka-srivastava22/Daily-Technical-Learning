{
 "cells": [
  {
   "cell_type": "code",
   "execution_count": null,
   "id": "b2982c39",
   "metadata": {},
   "outputs": [],
   "source": [
    "from kivymd.app import MDApp\n",
    "from kivymd.uix.label import MDLabel, MDIcon\n",
    "from kivymd.font_definitions import theme_font_styles\n",
    "\n",
    "\n",
    "class DemoApp(MDApp):\n",
    "    def build(self):\n",
    "        # halign = horizontal align\n",
    "\n",
    "        label = MDLabel(text=\"Hello world\", halign=\"center\", theme_text_color=\"Error\",\n",
    "                        font_style=\"Subtitle2\")\n",
    "\n",
    "        # label = MDLabel(text=\"Hello world\", halign=\"center\",theme_text_color=\"Custom\",\n",
    "        #                 text_color=(0,0,1,1))\n",
    "\n",
    "        # label = MDIcon(icon=\"language-python\", halign=\"center\")\n",
    "        return label\n",
    "\n",
    "\n",
    "DemoApp().run()\n"
   ]
  }
 ],
 "metadata": {
  "kernelspec": {
   "display_name": "Python 3",
   "language": "python",
   "name": "python3"
  },
  "language_info": {
   "codemirror_mode": {
    "name": "ipython",
    "version": 3
   },
   "file_extension": ".py",
   "mimetype": "text/x-python",
   "name": "python",
   "nbconvert_exporter": "python",
   "pygments_lexer": "ipython3",
   "version": "3.8.8"
  }
 },
 "nbformat": 4,
 "nbformat_minor": 5
}
