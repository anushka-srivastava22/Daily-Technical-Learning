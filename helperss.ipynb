{
 "cells": [
  {
   "cell_type": "code",
   "execution_count": null,
   "id": "7393d6ab",
   "metadata": {},
   "outputs": [],
   "source": [
    "username_input = \"\"\"\n",
    "MDTextField:\n",
    "    hint_text: \"Enter username\"\n",
    "    helper_text: \"or click on forgot username\"\n",
    "    helper_text_mode: \"on_focus\"\n",
    "    icon_right: \"android\"\n",
    "    icon_right_color: app.theme_cls.primary_color\n",
    "    pos_hint:{'center_x': 0.5, 'center_y': 0.6}\n",
    "    size_hint_x:None\n",
    "    width:250\n",
    "\"\"\""
   ]
  }
 ],
 "metadata": {
  "kernelspec": {
   "display_name": "Python 3",
   "language": "python",
   "name": "python3"
  },
  "language_info": {
   "codemirror_mode": {
    "name": "ipython",
    "version": 3
   },
   "file_extension": ".py",
   "mimetype": "text/x-python",
   "name": "python",
   "nbconvert_exporter": "python",
   "pygments_lexer": "ipython3",
   "version": "3.8.8"
  }
 },
 "nbformat": 4,
 "nbformat_minor": 5
}
