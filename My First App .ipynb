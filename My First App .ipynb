{
 "cells": [
  {
   "cell_type": "code",
   "execution_count": 1,
   "id": "4188c4ec",
   "metadata": {},
   "outputs": [
    {
     "name": "stderr",
     "output_type": "stream",
     "text": [
      "[INFO   ] [Logger      ] Record log in C:\\Users\\DELL\\.kivy\\logs\\kivy_21-07-11_0.txt\n",
      "[INFO   ] [deps        ] Successfully imported \"kivy_deps.angle\" 0.3.0\n",
      "[INFO   ] [deps        ] Successfully imported \"kivy_deps.glew\" 0.3.0\n",
      "[INFO   ] [deps        ] Successfully imported \"kivy_deps.sdl2\" 0.3.1\n",
      "[INFO   ] [Kivy        ] v2.0.0\n",
      "[INFO   ] [Kivy        ] Installed at \"C:\\Users\\DELL\\anaconda3\\lib\\site-packages\\kivy\\__init__.py\"\n",
      "[INFO   ] [Python      ] v3.8.8 (default, Apr 13 2021, 15:08:03) [MSC v.1916 64 bit (AMD64)]\n",
      "[INFO   ] [Python      ] Interpreter at \"C:\\Users\\DELL\\anaconda3\\python.exe\"\n",
      "[INFO   ] [Factory     ] 186 symbols loaded\n",
      "[INFO   ] [Image       ] Providers: img_tex, img_dds, img_sdl2, img_pil (img_ffpyplayer ignored)\n",
      "[INFO   ] [Text        ] Provider: sdl2\n",
      "[INFO   ] [Window      ] Provider: sdl2\n",
      "[INFO   ] [GL          ] Using the \"OpenGL\" graphics system\n",
      "[INFO   ] [GL          ] GLEW initialization succeeded\n",
      "[INFO   ] [GL          ] Backend used <glew>\n",
      "[INFO   ] [GL          ] OpenGL version <b'4.5.0 - Build 23.20.16.4973'>\n",
      "[INFO   ] [GL          ] OpenGL vendor <b'Intel'>\n",
      "[INFO   ] [GL          ] OpenGL renderer <b'Intel(R) HD Graphics 520'>\n",
      "[INFO   ] [GL          ] OpenGL parsed version: 4, 5\n",
      "[INFO   ] [GL          ] Shading version <b'4.50 - Build 23.20.16.4973'>\n",
      "[INFO   ] [GL          ] Texture max size <16384>\n",
      "[INFO   ] [GL          ] Texture max units <32>\n",
      "[INFO   ] [Window      ] auto add sdl2 input provider\n",
      "[INFO   ] [Window      ] virtual keyboard not allowed, single mode, not docked\n",
      "[INFO   ] [Base        ] Start application main loop\n",
      "[INFO   ] [GL          ] NPOT texture support is available\n",
      "[INFO   ] [Base        ] Leaving application in progress...\n"
     ]
    }
   ],
   "source": [
    "import kivy\n",
    "from kivy.app import App\n",
    "from kivy.uix.label import Label\n",
    "from kivy.uix.button import Button\n",
    "from kivy.uix.boxlayout import BoxLayout  \n",
    "from kivy.core.window import Window \n",
    "# Replace this with your \n",
    "# current version\n",
    "kivy.require('1.11.1')  \n",
    "  \n",
    "Window.clearcolor = (1,1,1,1)\n",
    "\n",
    "    # Defining a class\n",
    "class MyFirstKivyApp(App):\n",
    "      \n",
    "    # Function that returns \n",
    "    # the root widget\n",
    "    def build(self):\n",
    "          \n",
    "        # Label with text Hello World is \n",
    "        # returned as root widget\n",
    "        \n",
    "        layout = BoxLayout(orientation='vertical' , spacing = 20 , padding=50)\n",
    "        button1 = Button(text='Pick a Meaning', size_hint=(0.5,0.2) , pos_hint={'center_x':0.5} )\n",
    "        button2 = Button(text='POS Classification', size_hint=(0.5,0.2) , pos_hint={'center_x':0.5 } )\n",
    "        button3 = Button(text='Sync With Synonym' , size_hint=(0.5,0.2) , pos_hint={'center_x':0.5} )\n",
    "        button4 = Button(text='Turn it - Antonym' , size_hint=(0.5,0.2) , pos_hint={'center_x':0.5} )\n",
    "        button5 = Button(text='Breaking the Gap with POS tags' , size_hint=(0.5,0.2) , pos_hint={'center_x':0.5} )\n",
    "        layout.add_widget(button1)\n",
    "        layout.add_widget(button2)\n",
    "        layout.add_widget(button3)\n",
    "        layout.add_widget(button4)\n",
    "        layout.add_widget(button5)\n",
    "        return layout\n",
    "        \n",
    "              \n",
    "  \n",
    "  \n",
    "# Here our class is initialized\n",
    "# and its run() method is called. \n",
    "# This initializes and starts \n",
    "# our Kivy application.\n",
    "MyFirstKivyApp().run()"
   ]
  },
  {
   "cell_type": "code",
   "execution_count": null,
   "id": "fe0edd6f",
   "metadata": {},
   "outputs": [],
   "source": []
  },
  {
   "cell_type": "code",
   "execution_count": null,
   "id": "877c3551",
   "metadata": {},
   "outputs": [],
   "source": []
  }
 ],
 "metadata": {
  "kernelspec": {
   "display_name": "Python 3",
   "language": "python",
   "name": "python3"
  },
  "language_info": {
   "codemirror_mode": {
    "name": "ipython",
    "version": 3
   },
   "file_extension": ".py",
   "mimetype": "text/x-python",
   "name": "python",
   "nbconvert_exporter": "python",
   "pygments_lexer": "ipython3",
   "version": "3.8.8"
  }
 },
 "nbformat": 4,
 "nbformat_minor": 5
}
