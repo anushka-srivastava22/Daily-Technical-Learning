{
 "cells": [
  {
   "cell_type": "code",
   "execution_count": null,
   "id": "41244066",
   "metadata": {},
   "outputs": [],
   "source": [
    "from kivymd.app import MDApp\n",
    "from kivymd.uix.screen import Screen\n",
    "import helpers\n",
    "from kivy.lang import Builder\n",
    "\n",
    "\n",
    "class DemoApp(MDApp):\n",
    "    def build(self):\n",
    "        self.theme_cls.primary_palette=\"Green\"\n",
    "        screen = Screen()\n",
    "\n",
    "        # username = MDTextField(\n",
    "        #     pos_hint={'center_x': 0.5, 'center_y': 0.5},\n",
    "        #     size_hint_x=None, width=200)\n",
    "\n",
    "        username = Builder.load_string(helpers.username_input)\n",
    "        screen.add_widget(username)\n",
    "        return screen\n",
    "\n",
    "\n",
    "DemoApp().run()\n"
   ]
  }
 ],
 "metadata": {
  "kernelspec": {
   "display_name": "Python 3",
   "language": "python",
   "name": "python3"
  },
  "language_info": {
   "codemirror_mode": {
    "name": "ipython",
    "version": 3
   },
   "file_extension": ".py",
   "mimetype": "text/x-python",
   "name": "python",
   "nbconvert_exporter": "python",
   "pygments_lexer": "ipython3",
   "version": "3.8.8"
  }
 },
 "nbformat": 4,
 "nbformat_minor": 5
}
