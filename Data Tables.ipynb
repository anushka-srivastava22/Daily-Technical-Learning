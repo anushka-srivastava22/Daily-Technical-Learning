{
 "cells": [
  {
   "cell_type": "code",
   "execution_count": null,
   "id": "bc9cc329",
   "metadata": {},
   "outputs": [],
   "source": [
    "from kivymd.app import MDApp\n",
    "from kivymd.uix.screen import Screen\n",
    "from kivymd.uix.datatables import MDDataTable\n",
    "from kivy.metrics import dp\n",
    "\n",
    "\n",
    "class DemoApp(MDApp):\n",
    "\n",
    "    def build(self):\n",
    "        screen = Screen()\n",
    "        data_table = MDDataTable(pos_hint={'center_x': 0.5, 'center_y': 0.5},\n",
    "                                 size_hint=(0.9, 0.6),\n",
    "                                 check=True,\n",
    "                                 rows_num=10,\n",
    "                                 column_data=[\n",
    "                                     (\"No.\", dp(18)),\n",
    "                                     (\"Food\", dp(20)),\n",
    "                                     (\"Calories\", dp(20))\n",
    "                                 ],\n",
    "                                 row_data=[\n",
    "                                     (\"1\", \"Burger\", \"300\"),\n",
    "                                     (\"2\", \"Oats\", \"200\"),\n",
    "                                     (\"3\", \"Oats\", \"200\"),\n",
    "                                     (\"4\", \"Oats\", \"200\"),\n",
    "                                     (\"5\", \"Oats\", \"200\"),\n",
    "                                     (\"6\", \"Oats\", \"200\"),\n",
    "                                     (\"7\", \"Oats\", \"200\"),\n",
    "                                     (\"8\", \"Oats\", \"200\")\n",
    "\n",
    "                                 ]\n",
    "                                 )\n",
    "        data_table.bind(on_row_press=self.on_row_press)\n",
    "        data_table.bind(on_check_press=self.on_check_press)\n",
    "        screen.add_widget(data_table)\n",
    "        return screen\n",
    "\n",
    "    def on_row_press(self, instance_table, instance_row):\n",
    "        print(instance_table, instance_row)\n",
    "\n",
    "    def on_check_press(self, instance_table, current_row):\n",
    "        print(instance_table, current_row)\n",
    "\n",
    "\n",
    "DemoApp().run()\n"
   ]
  }
 ],
 "metadata": {
  "kernelspec": {
   "display_name": "Python 3",
   "language": "python",
   "name": "python3"
  },
  "language_info": {
   "codemirror_mode": {
    "name": "ipython",
    "version": 3
   },
   "file_extension": ".py",
   "mimetype": "text/x-python",
   "name": "python",
   "nbconvert_exporter": "python",
   "pygments_lexer": "ipython3",
   "version": "3.8.8"
  }
 },
 "nbformat": 4,
 "nbformat_minor": 5
}
