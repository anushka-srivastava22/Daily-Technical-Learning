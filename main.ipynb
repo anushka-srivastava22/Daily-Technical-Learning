{
 "cells": [
  {
   "cell_type": "code",
   "execution_count": 1,
   "id": "4188c4ec",
   "metadata": {},
   "outputs": [
    {
     "name": "stderr",
     "output_type": "stream",
     "text": [
      "[INFO   ] [Logger      ] Record log in C:\\Users\\DELL\\.kivy\\logs\\kivy_21-07-10_11.txt\n",
      "[INFO   ] [deps        ] Successfully imported \"kivy_deps.angle\" 0.3.0\n",
      "[INFO   ] [deps        ] Successfully imported \"kivy_deps.glew\" 0.3.0\n",
      "[INFO   ] [deps        ] Successfully imported \"kivy_deps.sdl2\" 0.3.1\n",
      "[INFO   ] [Kivy        ] v2.0.0\n",
      "[INFO   ] [Kivy        ] Installed at \"C:\\Users\\DELL\\anaconda3\\lib\\site-packages\\kivy\\__init__.py\"\n",
      "[INFO   ] [Python      ] v3.8.8 (default, Apr 13 2021, 15:08:03) [MSC v.1916 64 bit (AMD64)]\n",
      "[INFO   ] [Python      ] Interpreter at \"C:\\Users\\DELL\\anaconda3\\python.exe\"\n",
      "[INFO   ] [Factory     ] 186 symbols loaded\n",
      "[INFO   ] [Image       ] Providers: img_tex, img_dds, img_sdl2, img_pil (img_ffpyplayer ignored)\n",
      "[INFO   ] [KivyMD      ] v0.104.1\n",
      "[INFO   ] [Window      ] Provider: sdl2\n",
      "[INFO   ] [GL          ] Using the \"OpenGL\" graphics system\n",
      "[INFO   ] [GL          ] GLEW initialization succeeded\n",
      "[INFO   ] [GL          ] Backend used <glew>\n",
      "[INFO   ] [GL          ] OpenGL version <b'4.5.0 - Build 23.20.16.4973'>\n",
      "[INFO   ] [GL          ] OpenGL vendor <b'Intel'>\n",
      "[INFO   ] [GL          ] OpenGL renderer <b'Intel(R) HD Graphics 520'>\n",
      "[INFO   ] [GL          ] OpenGL parsed version: 4, 5\n",
      "[INFO   ] [GL          ] Shading version <b'4.50 - Build 23.20.16.4973'>\n",
      "[INFO   ] [GL          ] Texture max size <16384>\n",
      "[INFO   ] [GL          ] Texture max units <32>\n",
      "[INFO   ] [Window      ] auto add sdl2 input provider\n",
      "[INFO   ] [Window      ] virtual keyboard not allowed, single mode, not docked\n",
      "[INFO   ] [Text        ] Provider: sdl2\n",
      "[INFO   ] [GL          ] NPOT texture support is available\n",
      "[INFO   ] [Base        ] Start application main loop\n",
      "[INFO   ] [Base        ] Leaving application in progress...\n"
     ]
    }
   ],
   "source": [
    "from kivy.lang import Builder\n",
    "from kivy.uix.boxlayout import BoxLayout\n",
    "\n",
    "from kivymd.app import MDApp\n",
    "\n",
    "KV = '''\n",
    "Screen:\n",
    "\n",
    "    NavigationLayout:\n",
    "\n",
    "        ScreenManager:\n",
    "\n",
    "            Screen:\n",
    "\n",
    "                BoxLayout:\n",
    "                    orientation: 'vertical'\n",
    "\n",
    "                    MDToolbar:\n",
    "                        title: \"Navigation Drawer\"\n",
    "                        elevation: 10\n",
    "                        left_action_items: [['menu', lambda x: nav_drawer.set_state(\"open\")]]\n",
    "\n",
    "                    Widget:\n",
    "\n",
    "\n",
    "        MDNavigationDrawer:\n",
    "            id: nav_drawer\n",
    "\n",
    "            ContentNavigationDrawer:\n",
    "'''\n",
    "\n",
    "\n",
    "class ContentNavigationDrawer(BoxLayout):\n",
    "    pass\n",
    "\n",
    "\n",
    "class TestNavigationDrawer(MDApp):\n",
    "    def build(self):\n",
    "        return Builder.load_string(KV)\n",
    "\n",
    "\n",
    "TestNavigationDrawer().run()"
   ]
  },
  {
   "cell_type": "code",
   "execution_count": 2,
   "id": "fe0edd6f",
   "metadata": {},
   "outputs": [
    {
     "ename": "SyntaxError",
     "evalue": "invalid syntax (<ipython-input-2-d160e8da926d>, line 2)",
     "output_type": "error",
     "traceback": [
      "\u001b[1;36m  File \u001b[1;32m\"<ipython-input-2-d160e8da926d>\"\u001b[1;36m, line \u001b[1;32m2\u001b[0m\n\u001b[1;33m    <ItemDrawer>:\u001b[0m\n\u001b[1;37m    ^\u001b[0m\n\u001b[1;31mSyntaxError\u001b[0m\u001b[1;31m:\u001b[0m invalid syntax\n"
     ]
    }
   ],
   "source": [
    "# Menu item in the DrawerList list.\n",
    "<ItemDrawer>:\n",
    "    theme_text_color: \"Custom\"\n",
    "    on_release: self.parent.set_color_item(self)\n",
    "\n",
    "    IconLeftWidget:\n",
    "        id: icon\n",
    "        icon: root.icon\n",
    "        theme_text_color: \"Custom\"\n",
    "        text_color: root.text_color\n",
    "class ItemDrawer(OneLineIconListItem):\n",
    "    icon = StringProperty()"
   ]
  },
  {
   "cell_type": "code",
   "execution_count": null,
   "id": "877c3551",
   "metadata": {},
   "outputs": [],
   "source": [
    "<ContentNavigationDrawer>:\n",
    "    orientation: \"vertical\"\n",
    "    padding: \"8dp\"\n",
    "    spacing: \"8dp\"\n",
    "\n",
    "    AnchorLayout:\n",
    "        anchor_x: \"left\"\n",
    "        size_hint_y: None\n",
    "        height: avatar.height\n",
    "\n",
    "        Image:\n",
    "            id: avatar\n",
    "            size_hint: None, None\n",
    "            size: \"56dp\", \"56dp\"\n",
    "            source: \"kivymd.png\"\n",
    "\n",
    "    MDLabel:\n",
    "        text: \"KivyMD library\"\n",
    "        font_style: \"Button\"\n",
    "        size_hint_y: None\n",
    "        height: self.texture_size[1]\n",
    "\n",
    "    MDLabel:\n",
    "        text: \"kivydevelopment@gmail.com\"\n",
    "        font_style: \"Caption\"\n",
    "        size_hint_y: None\n",
    "        height: self.texture_size[1]\n",
    "\n",
    "    ScrollView:\n",
    "\n",
    "        DrawerList:\n",
    "            id: md_list"
   ]
  },
  {
   "cell_type": "code",
   "execution_count": null,
   "id": "51313ae1",
   "metadata": {},
   "outputs": [],
   "source": [
    "class ContentNavigationDrawer(BoxLayout):\n",
    "    pass\n",
    "\n",
    "\n",
    "class DrawerList(ThemableBehavior, MDList):\n",
    "    def set_color_item(self, instance_item):\n",
    "        '''Called when tap on a menu item.'''\n",
    "\n",
    "        # Set the color of the icon and text for the menu item.\n",
    "        for item in self.children:\n",
    "            if item.text_color == self.theme_cls.primary_color:\n",
    "                item.text_color = self.theme_cls.text_color\n",
    "                break\n",
    "        instance_item.text_color = self.theme_cls.primary_color"
   ]
  },
  {
   "cell_type": "code",
   "execution_count": null,
   "id": "a0c2dd97",
   "metadata": {},
   "outputs": [],
   "source": [
    "def on_start(self):\n",
    "    icons_item = {\n",
    "        \"folder\": \"My files\",\n",
    "        \"account-multiple\": \"Shared with me\",\n",
    "        \"star\": \"Starred\",\n",
    "        \"history\": \"Recent\",\n",
    "        \"checkbox-marked\": \"Shared with me\",\n",
    "        \"upload\": \"Upload\",\n",
    "    }\n",
    "    for icon_name in icons_item.keys():\n",
    "        self.root.ids.content_drawer.ids.md_list.add_widget(\n",
    "            ItemDrawer(icon=icon_name, text=icons_item[icon_name])\n",
    "        )\n"
   ]
  },
  {
   "cell_type": "code",
   "execution_count": null,
   "id": "49b448cb",
   "metadata": {},
   "outputs": [],
   "source": []
  },
  {
   "cell_type": "code",
   "execution_count": null,
   "id": "8379b988",
   "metadata": {},
   "outputs": [],
   "source": []
  }
 ],
 "metadata": {
  "kernelspec": {
   "display_name": "Python 3",
   "language": "python",
   "name": "python3"
  },
  "language_info": {
   "codemirror_mode": {
    "name": "ipython",
    "version": 3
   },
   "file_extension": ".py",
   "mimetype": "text/x-python",
   "name": "python",
   "nbconvert_exporter": "python",
   "pygments_lexer": "ipython3",
   "version": "3.8.8"
  }
 },
 "nbformat": 4,
 "nbformat_minor": 5
}
