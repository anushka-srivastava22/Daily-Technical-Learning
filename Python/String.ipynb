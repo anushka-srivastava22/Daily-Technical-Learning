{
 "cells": [
  {
   "cell_type": "code",
   "execution_count": 1,
   "id": "5f865859",
   "metadata": {},
   "outputs": [],
   "source": [
    "string=\"nitin\"\n"
   ]
  },
  {
   "cell_type": "code",
   "execution_count": 2,
   "id": "9737fc2e",
   "metadata": {},
   "outputs": [
    {
     "data": {
      "text/plain": [
       "'nitin'"
      ]
     },
     "execution_count": 2,
     "metadata": {},
     "output_type": "execute_result"
    }
   ],
   "source": [
    "string"
   ]
  },
  {
   "cell_type": "code",
   "execution_count": 3,
   "id": "62980f57",
   "metadata": {},
   "outputs": [
    {
     "data": {
      "text/plain": [
       "'nitin'"
      ]
     },
     "execution_count": 3,
     "metadata": {},
     "output_type": "execute_result"
    }
   ],
   "source": [
    "string=string[::-1]\n",
    "string"
   ]
  },
  {
   "cell_type": "code",
   "execution_count": 4,
   "id": "30239ccc",
   "metadata": {},
   "outputs": [],
   "source": [
    "porn=\"Sexyy\"\n",
    "porn=porn[1:]"
   ]
  },
  {
   "cell_type": "code",
   "execution_count": 5,
   "id": "08d9455c",
   "metadata": {},
   "outputs": [
    {
     "data": {
      "text/plain": [
       "'exyy'"
      ]
     },
     "execution_count": 5,
     "metadata": {},
     "output_type": "execute_result"
    }
   ],
   "source": [
    "porn"
   ]
  },
  {
   "cell_type": "code",
   "execution_count": 6,
   "id": "7af89729",
   "metadata": {},
   "outputs": [
    {
     "data": {
      "text/plain": [
       "'xyy'"
      ]
     },
     "execution_count": 6,
     "metadata": {},
     "output_type": "execute_result"
    }
   ],
   "source": [
    "porn=porn[1::]\n",
    "porn"
   ]
  },
  {
   "cell_type": "code",
   "execution_count": 7,
   "id": "6450b0b8",
   "metadata": {},
   "outputs": [
    {
     "data": {
      "text/plain": [
       "'x'"
      ]
     },
     "execution_count": 7,
     "metadata": {},
     "output_type": "execute_result"
    }
   ],
   "source": [
    "porn[::4]\n"
   ]
  },
  {
   "cell_type": "code",
   "execution_count": 8,
   "id": "efa16ec2",
   "metadata": {},
   "outputs": [
    {
     "data": {
      "text/plain": [
       "'seductiveto arush'"
      ]
     },
     "execution_count": 8,
     "metadata": {},
     "output_type": "execute_result"
    }
   ],
   "source": [
    "anu=\"seductive\"\n",
    "anu + \"to arush\""
   ]
  },
  {
   "cell_type": "code",
   "execution_count": null,
   "id": "3d5a39fc",
   "metadata": {},
   "outputs": [],
   "source": []
  }
 ],
 "metadata": {
  "kernelspec": {
   "display_name": "Python 3",
   "language": "python",
   "name": "python3"
  },
  "language_info": {
   "codemirror_mode": {
    "name": "ipython",
    "version": 3
   },
   "file_extension": ".py",
   "mimetype": "text/x-python",
   "name": "python",
   "nbconvert_exporter": "python",
   "pygments_lexer": "ipython3",
   "version": "3.8.8"
  }
 },
 "nbformat": 4,
 "nbformat_minor": 5
}
