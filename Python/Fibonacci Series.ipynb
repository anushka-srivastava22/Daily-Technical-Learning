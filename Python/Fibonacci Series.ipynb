{
 "cells": [
  {
   "cell_type": "code",
   "execution_count": null,
   "id": "9adb18b8",
   "metadata": {},
   "outputs": [],
   "source": [
    "def FibonacciSeries(n):\n",
    "    if n == 0:\n",
    "        return 0\n",
    "    elif n == 1 or n == 2 :\n",
    "        return 1\n",
    "    else:\n",
    "        return FibonacciSeries(n-1) + FibonacciSeries(n-2)\n",
    "    \n",
    "n = (int)(input())\n",
    "print(FibonacciSeries(n))"
   ]
  },
  {
   "cell_type": "code",
   "execution_count": null,
   "id": "eeb9f8e6",
   "metadata": {},
   "outputs": [],
   "source": [
    "n = (int)(input())\n",
    "n1 = 0\n",
    "n2 = 0\n",
    "counter = 0\n",
    "\n",
    "if n==1:\n",
    "    print(\"Fibonacci Series : \")\n",
    "    print(n1)\n",
    "else:\n",
    "    print(\"Fibonacci Series : \")\n",
    "    while count < n:\n",
    "        n3 = n1+n2\n",
    "        n1 = n2\n",
    "        n2 = n3\n",
    "        counter+=1"
   ]
  },
  {
   "cell_type": "code",
   "execution_count": 8,
   "id": "807e23f8",
   "metadata": {},
   "outputs": [
    {
     "name": "stdout",
     "output_type": "stream",
     "text": [
      "5\n",
      "Fibonacci sequence:\n",
      "0\n",
      "1\n",
      "1\n",
      "2\n",
      "3\n"
     ]
    }
   ],
   "source": [
    "\n",
    "\n",
    "n = int(input())\n",
    "\n",
    "\n",
    "n1, n2 = 0, 1\n",
    "count = 0\n",
    "\n",
    "\n",
    "if n <= 0:\n",
    "   print(\" enter a positive integer\")\n",
    "\n",
    "elif n == 1:\n",
    "   print(\"Fibonacci Series\")\n",
    "   print(n1)\n",
    "\n",
    "else:\n",
    "   print(\"Fibonacci sequence:\")\n",
    "   while count < n:\n",
    "       print(n1)\n",
    "       n3 = n1 + n2\n",
    "      \n",
    "       n1 = n2\n",
    "       n2 = n3\n",
    "       count += 1"
   ]
  },
  {
   "cell_type": "code",
   "execution_count": null,
   "id": "70c65a81",
   "metadata": {},
   "outputs": [],
   "source": []
  }
 ],
 "metadata": {
  "kernelspec": {
   "display_name": "Python 3",
   "language": "python",
   "name": "python3"
  },
  "language_info": {
   "codemirror_mode": {
    "name": "ipython",
    "version": 3
   },
   "file_extension": ".py",
   "mimetype": "text/x-python",
   "name": "python",
   "nbconvert_exporter": "python",
   "pygments_lexer": "ipython3",
   "version": "3.8.8"
  }
 },
 "nbformat": 4,
 "nbformat_minor": 5
}
