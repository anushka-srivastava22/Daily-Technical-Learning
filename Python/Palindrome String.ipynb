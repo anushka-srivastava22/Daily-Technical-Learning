{
 "cells": [
  {
   "cell_type": "code",
   "execution_count": 4,
   "id": "61fb1b33",
   "metadata": {},
   "outputs": [
    {
     "name": "stdout",
     "output_type": "stream",
     "text": [
      "ANUJAY\n",
      "No it is not a palindrome string.\n"
     ]
    }
   ],
   "source": [
    "def isPalindromeString(s):\n",
    "    rev = ''.join(reversed(s))\n",
    "    if(s == rev):\n",
    "        return True\n",
    "    return False\n",
    "\n",
    "s = input()\n",
    "res = isPalindromeString(s)\n",
    "if(res):\n",
    "    print(\"Yes it is a palindrome string.\")\n",
    "else:\n",
    "    print(\"No it is not a palindrome string.\")"
   ]
  },
  {
   "cell_type": "code",
   "execution_count": null,
   "id": "e737ac05",
   "metadata": {},
   "outputs": [],
   "source": []
  }
 ],
 "metadata": {
  "kernelspec": {
   "display_name": "Python 3",
   "language": "python",
   "name": "python3"
  },
  "language_info": {
   "codemirror_mode": {
    "name": "ipython",
    "version": 3
   },
   "file_extension": ".py",
   "mimetype": "text/x-python",
   "name": "python",
   "nbconvert_exporter": "python",
   "pygments_lexer": "ipython3",
   "version": "3.8.8"
  }
 },
 "nbformat": 4,
 "nbformat_minor": 5
}
