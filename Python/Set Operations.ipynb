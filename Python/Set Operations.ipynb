{
 "cells": [
  {
   "cell_type": "code",
   "execution_count": 1,
   "id": "e6f050ee",
   "metadata": {},
   "outputs": [
    {
     "name": "stdout",
     "output_type": "stream",
     "text": [
      "Union {0, 1, 2, 3, 4, 5, 6, 8}\n",
      "Intersection {2, 4}\n",
      "Difference {0, 8, 6}\n",
      "Symmetric Difference {0, 1, 3, 5, 6, 8}\n"
     ]
    }
   ],
   "source": [
    "E={0,2,4,6,8}\n",
    "N={1,2,3,4,5}\n",
    "print(\"Union\",E|N )\n",
    "print(\"Intersection\",E&N )\n",
    "print(\"Difference\",E-N )\n",
    "print(\"Symmetric Difference\",E^N )"
   ]
  },
  {
   "cell_type": "code",
   "execution_count": null,
   "id": "8aab900e",
   "metadata": {},
   "outputs": [],
   "source": []
  }
 ],
 "metadata": {
  "kernelspec": {
   "display_name": "Python 3",
   "language": "python",
   "name": "python3"
  },
  "language_info": {
   "codemirror_mode": {
    "name": "ipython",
    "version": 3
   },
   "file_extension": ".py",
   "mimetype": "text/x-python",
   "name": "python",
   "nbconvert_exporter": "python",
   "pygments_lexer": "ipython3",
   "version": "3.8.8"
  }
 },
 "nbformat": 4,
 "nbformat_minor": 5
}
