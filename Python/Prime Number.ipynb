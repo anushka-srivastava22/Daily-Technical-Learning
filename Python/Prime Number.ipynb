{
 "cells": [
  {
   "cell_type": "code",
   "execution_count": 2,
   "id": "014b09b2",
   "metadata": {},
   "outputs": [
    {
     "name": "stdout",
     "output_type": "stream",
     "text": [
      "5\n",
      "Yes it is a prime number\n"
     ]
    }
   ],
   "source": [
    "from math import sqrt\n",
    "\n",
    "n = (int)(input())\n",
    "\n",
    "isprime = 0\n",
    "\n",
    "if(n>1):\n",
    "    for i in range(2 , int(sqrt(n))+1):\n",
    "        if(n%i == 0):\n",
    "            isprime = 1\n",
    "            break\n",
    "    if(isprime == 0):\n",
    "        print(\"Yes it is a prime number\")\n",
    "    else:\n",
    "         print(\"No it is not a prime number\")\n",
    "            \n",
    "else:\n",
    "    print(\"No it is not a prime number\")"
   ]
  },
  {
   "cell_type": "code",
   "execution_count": null,
   "id": "5856400d",
   "metadata": {},
   "outputs": [],
   "source": []
  }
 ],
 "metadata": {
  "kernelspec": {
   "display_name": "Python 3",
   "language": "python",
   "name": "python3"
  },
  "language_info": {
   "codemirror_mode": {
    "name": "ipython",
    "version": 3
   },
   "file_extension": ".py",
   "mimetype": "text/x-python",
   "name": "python",
   "nbconvert_exporter": "python",
   "pygments_lexer": "ipython3",
   "version": "3.8.8"
  }
 },
 "nbformat": 4,
 "nbformat_minor": 5
}
