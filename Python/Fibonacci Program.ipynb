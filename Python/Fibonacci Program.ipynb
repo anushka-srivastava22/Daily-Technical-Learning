{
 "cells": [
  {
   "cell_type": "code",
   "execution_count": 4,
   "id": "d9825a0e",
   "metadata": {},
   "outputs": [
    {
     "name": "stdout",
     "output_type": "stream",
     "text": [
      "Enter no. of terms7\n",
      "Fibonacci sequence: \n",
      "0 , 1 , 1 , 2 , 3 , 5 , 8 , "
     ]
    }
   ],
   "source": [
    "n = int(input(\"Enter no. of terms\"))\n",
    "n1=0\n",
    "n2=1\n",
    "count=2\n",
    "if n<=0:\n",
    "    print(\"Enter positive numbers only\")\n",
    "elif n==1:\n",
    "    print (\"Fibonacci sequence: \")\n",
    "    print(n1)\n",
    "else:\n",
    "    print (\"Fibonacci sequence: \")\n",
    "    print(n1,\",\",n2,end=' , ')\n",
    "    while count < n:\n",
    "        nth = n1+n2\n",
    "        print(nth,end=' , ')\n",
    "        n1=n2\n",
    "        n2=nth\n",
    "        count +=1"
   ]
  },
  {
   "cell_type": "code",
   "execution_count": null,
   "id": "dc845384",
   "metadata": {},
   "outputs": [],
   "source": []
  }
 ],
 "metadata": {
  "kernelspec": {
   "display_name": "Python 3",
   "language": "python",
   "name": "python3"
  },
  "language_info": {
   "codemirror_mode": {
    "name": "ipython",
    "version": 3
   },
   "file_extension": ".py",
   "mimetype": "text/x-python",
   "name": "python",
   "nbconvert_exporter": "python",
   "pygments_lexer": "ipython3",
   "version": "3.8.8"
  }
 },
 "nbformat": 4,
 "nbformat_minor": 5
}
