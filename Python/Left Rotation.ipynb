{
 "cells": [
  {
   "cell_type": "code",
   "execution_count": 3,
   "id": "b6bb570d",
   "metadata": {},
   "outputs": [
    {
     "name": "stdout",
     "output_type": "stream",
     "text": [
      "2\n",
      "[3, 4, 5, 1, 2]\n"
     ]
    }
   ],
   "source": [
    "def rotate(list1, k):\n",
    "    return list1[k:] + list1[:k]\n",
    "\n",
    "list1 = [1, 2, 3, 4, 5]\n",
    "k = (int)(input())\n",
    "print(rotate(list1, k))"
   ]
  },
  {
   "cell_type": "code",
   "execution_count": null,
   "id": "29b4d635",
   "metadata": {},
   "outputs": [],
   "source": []
  }
 ],
 "metadata": {
  "kernelspec": {
   "display_name": "Python 3",
   "language": "python",
   "name": "python3"
  },
  "language_info": {
   "codemirror_mode": {
    "name": "ipython",
    "version": 3
   },
   "file_extension": ".py",
   "mimetype": "text/x-python",
   "name": "python",
   "nbconvert_exporter": "python",
   "pygments_lexer": "ipython3",
   "version": "3.8.8"
  }
 },
 "nbformat": 4,
 "nbformat_minor": 5
}
