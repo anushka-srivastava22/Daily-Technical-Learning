{
 "cells": [
  {
   "cell_type": "code",
   "execution_count": 7,
   "id": "59e73e13",
   "metadata": {},
   "outputs": [
    {
     "name": "stdout",
     "output_type": "stream",
     "text": [
      "2\n",
      "[5, 6, 1, 2, 3, 4]\n"
     ]
    }
   ],
   "source": [
    "def rotate(list1,k):\n",
    "    return (list1[-k:] + list1[:-k])\n",
    "\n",
    "k = (int)(input())\n",
    "  \n",
    "list1 = [1, 2, 3, 4, 5, 6]\n",
    "  \n",
    "print(rotate(list1, k))\n",
    "\n"
   ]
  },
  {
   "cell_type": "code",
   "execution_count": 6,
   "id": "dd3230e9",
   "metadata": {},
   "outputs": [
    {
     "name": "stdout",
     "output_type": "stream",
     "text": [
      "Hi\n"
     ]
    }
   ],
   "source": [
    "print('Hi')"
   ]
  },
  {
   "cell_type": "code",
   "execution_count": null,
   "id": "573303c7",
   "metadata": {},
   "outputs": [],
   "source": []
  }
 ],
 "metadata": {
  "kernelspec": {
   "display_name": "Python 3",
   "language": "python",
   "name": "python3"
  },
  "language_info": {
   "codemirror_mode": {
    "name": "ipython",
    "version": 3
   },
   "file_extension": ".py",
   "mimetype": "text/x-python",
   "name": "python",
   "nbconvert_exporter": "python",
   "pygments_lexer": "ipython3",
   "version": "3.8.8"
  }
 },
 "nbformat": 4,
 "nbformat_minor": 5
}
