{
 "cells": [
  {
   "cell_type": "code",
   "execution_count": 6,
   "id": "b93e7120",
   "metadata": {},
   "outputs": [
    {
     "name": "stdout",
     "output_type": "stream",
     "text": [
      "Welcome To The Games of English \n",
      " \n",
      "\n",
      "Here Games are as follows!\n",
      "Select\n",
      "1 - Dictionary\n",
      "2 - Classification\n",
      "3 - Synonym\n",
      "4 - Antonym\n",
      "5 - Matching\n",
      "11\n",
      "Invalid Choice\n"
     ]
    }
   ],
   "source": [
    "\n",
    "print(\"Welcome To The Games of English \\n \\n\");\n",
    "print(\"Here Games are as follows!\")\n",
    "print(\"Select\")\n",
    "print(\"1 - Dictionary\")\n",
    "print(\"2 - Classification\")\n",
    "print(\"3 - Synonym\")\n",
    "print(\"4 - Antonym\")\n",
    "print(\"5 - Matching\")\n",
    "choice = int(input())\n",
    "if choice == 1 :\n",
    "    print(\"Dict\")\n",
    "\n",
    "elif choice == 2 :\n",
    "    print(\"Class\")\n",
    "\n",
    "elif choice == 3 :\n",
    "    print(\"Syn\")\n",
    "\n",
    "elif choice == 4 :\n",
    "    print(\"Anto\")\n",
    "\n",
    "elif choice == 5 :\n",
    "    print(\"Match\")\n",
    "else:\n",
    "    print(\"Invalid Choice\")"
   ]
  },
  {
   "cell_type": "code",
   "execution_count": null,
   "id": "dce79be2",
   "metadata": {},
   "outputs": [],
   "source": []
  }
 ],
 "metadata": {
  "kernelspec": {
   "display_name": "Python 3",
   "language": "python",
   "name": "python3"
  },
  "language_info": {
   "codemirror_mode": {
    "name": "ipython",
    "version": 3
   },
   "file_extension": ".py",
   "mimetype": "text/x-python",
   "name": "python",
   "nbconvert_exporter": "python",
   "pygments_lexer": "ipython3",
   "version": "3.8.8"
  }
 },
 "nbformat": 4,
 "nbformat_minor": 5
}
