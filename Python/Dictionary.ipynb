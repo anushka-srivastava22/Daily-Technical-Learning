{
 "cells": [
  {
   "cell_type": "code",
   "execution_count": 5,
   "id": "2478b68b",
   "metadata": {},
   "outputs": [
    {
     "name": "stdout",
     "output_type": "stream",
     "text": [
      "{'brave', 'respond', 'angry', 'respect', 'amazing'}\n",
      "{'courageous', 'honor', 'mad', 'reply', 'surprising'}\n"
     ]
    }
   ],
   "source": [
    "word_dict = {\"amazing\" , \"brave\" , \"angry\" , \"respond\" , \"respect\"}\n",
    "mean_dict = {\"surprising\" , \"courageous\" , \"mad\" , \"reply\" , \"honor\"}\n",
    "print(word_dict)\n",
    "print(mean_dict)"
   ]
  },
  {
   "cell_type": "code",
   "execution_count": null,
   "id": "63bd3555",
   "metadata": {},
   "outputs": [],
   "source": []
  }
 ],
 "metadata": {
  "kernelspec": {
   "display_name": "Python 3",
   "language": "python",
   "name": "python3"
  },
  "language_info": {
   "codemirror_mode": {
    "name": "ipython",
    "version": 3
   },
   "file_extension": ".py",
   "mimetype": "text/x-python",
   "name": "python",
   "nbconvert_exporter": "python",
   "pygments_lexer": "ipython3",
   "version": "3.8.8"
  }
 },
 "nbformat": 4,
 "nbformat_minor": 5
}
