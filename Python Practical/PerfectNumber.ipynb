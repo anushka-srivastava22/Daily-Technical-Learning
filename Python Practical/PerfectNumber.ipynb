{
 "cells": [
  {
   "cell_type": "code",
   "execution_count": 4,
   "id": "7ee05e01",
   "metadata": {},
   "outputs": [
    {
     "name": "stdout",
     "output_type": "stream",
     "text": [
      "6\n",
      "6  is a Perfect Number\n"
     ]
    }
   ],
   "source": [
    "def isPerfect(num):  \n",
    "    sum = 0  \n",
    "    for i in range(1, num):  \n",
    "        if num % i == 0:  \n",
    "            sum=sum+i  \n",
    "    return sum == num  \n",
    "\n",
    "n = (int)(input())\n",
    "\n",
    "if isPerfect(n):\n",
    "    print(n , \" is a Perfect Number\")\n",
    "else:\n",
    "    print(n, \" is not a Perfect Number\")"
   ]
  },
  {
   "cell_type": "code",
   "execution_count": null,
   "id": "f0cdd1e8",
   "metadata": {},
   "outputs": [],
   "source": []
  }
 ],
 "metadata": {
  "kernelspec": {
   "display_name": "Python 3",
   "language": "python",
   "name": "python3"
  },
  "language_info": {
   "codemirror_mode": {
    "name": "ipython",
    "version": 3
   },
   "file_extension": ".py",
   "mimetype": "text/x-python",
   "name": "python",
   "nbconvert_exporter": "python",
   "pygments_lexer": "ipython3",
   "version": "3.8.8"
  }
 },
 "nbformat": 4,
 "nbformat_minor": 5
}
