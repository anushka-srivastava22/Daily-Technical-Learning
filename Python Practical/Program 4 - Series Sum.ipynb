{
 "cells": [
  {
   "cell_type": "code",
   "execution_count": 5,
   "id": "7e812cea",
   "metadata": {},
   "outputs": [
    {
     "name": "stdout",
     "output_type": "stream",
     "text": [
      "3\n",
      "4\n",
      "\n",
      "\n",
      "1 3 9 27 \n",
      "\n",
      "40.0\n"
     ]
    }
   ],
   "source": [
    "def seriesSum(x, n):\n",
    "     \n",
    "    total = 1.0\n",
    "    res = x\n",
    "    print('\\n')\n",
    "    print(1, end = \" \")\n",
    " \n",
    "   \n",
    "    for i in range(1, n):\n",
    "         \n",
    "        total = total + res\n",
    "        print(res, end = \" \")\n",
    "        res = res * x\n",
    "         \n",
    "    print('\\n')\n",
    "    return total;\n",
    " \n",
    "x = (int)(input())\n",
    "n = (int)(input())\n",
    "\n",
    "print(seriesSum(x, n))"
   ]
  },
  {
   "cell_type": "code",
   "execution_count": null,
   "id": "2c808bd6",
   "metadata": {},
   "outputs": [],
   "source": []
  }
 ],
 "metadata": {
  "kernelspec": {
   "display_name": "Python 3",
   "language": "python",
   "name": "python3"
  },
  "language_info": {
   "codemirror_mode": {
    "name": "ipython",
    "version": 3
   },
   "file_extension": ".py",
   "mimetype": "text/x-python",
   "name": "python",
   "nbconvert_exporter": "python",
   "pygments_lexer": "ipython3",
   "version": "3.8.8"
  }
 },
 "nbformat": 4,
 "nbformat_minor": 5
}
