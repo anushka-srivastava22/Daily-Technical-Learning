{
 "cells": [
  {
   "cell_type": "code",
   "execution_count": 1,
   "id": "d6e5e99c",
   "metadata": {},
   "outputs": [
    {
     "name": "stdout",
     "output_type": "stream",
     "text": [
      "22\n",
      "30\n",
      "75\n",
      "The Greatest Number is 75\n"
     ]
    }
   ],
   "source": [
    "num1 = (int)(input())#Taking first number as input\n",
    "num2 = (int)(input())#Taking second number as input\n",
    "num3 = (int)(input())#Taking third number as input\n",
    "\n",
    "#Checking and printing the greatest number among all the inputted number\n",
    "\n",
    "if num1 > num2 and num1 > num3:\n",
    "    print(\"The Greatest Number is\",num1)\n",
    "elif num2 > num1 and num2 > num3:\n",
    "    print(\"The Greatest Number is\",num2)\n",
    "else:\n",
    "    print(\"The Greatest Number is\",num3)"
   ]
  },
  {
   "cell_type": "code",
   "execution_count": null,
   "id": "d92e3156",
   "metadata": {},
   "outputs": [],
   "source": []
  }
 ],
 "metadata": {
  "kernelspec": {
   "display_name": "Python 3",
   "language": "python",
   "name": "python3"
  },
  "language_info": {
   "codemirror_mode": {
    "name": "ipython",
    "version": 3
   },
   "file_extension": ".py",
   "mimetype": "text/x-python",
   "name": "python",
   "nbconvert_exporter": "python",
   "pygments_lexer": "ipython3",
   "version": "3.8.8"
  }
 },
 "nbformat": 4,
 "nbformat_minor": 5
}
