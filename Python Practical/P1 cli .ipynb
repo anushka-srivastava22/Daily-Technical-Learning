{
 "cells": [
  {
   "cell_type": "code",
   "execution_count": 10,
   "id": "171c92bd",
   "metadata": {},
   "outputs": [
    {
     "name": "stdout",
     "output_type": "stream",
     "text": [
      "Number of Arguments :  3\n",
      "\n",
      "Python Script's Name :  C:\\Users\\DELL\\anaconda3\\lib\\site-packages\\ipykernel_launcher.py\n",
      "\n",
      "Argument Passed :  -f C:\\Users\\DELL\\AppData\\Roaming\\jupyter\\runtime\\kernel-a2017dd9-4d9f-4c7d-9f8d-6bb1cdc9ef3a.json "
     ]
    },
    {
     "ename": "ValueError",
     "evalue": "invalid literal for int() with base 10: '-f'",
     "output_type": "error",
     "traceback": [
      "\u001b[1;31m---------------------------------------------------------------------------\u001b[0m",
      "\u001b[1;31mValueError\u001b[0m                                Traceback (most recent call last)",
      "\u001b[1;32m<ipython-input-10-647bf08b4be6>\u001b[0m in \u001b[0;36m<module>\u001b[1;34m\u001b[0m\n\u001b[0;32m     14\u001b[0m \u001b[1;33m\u001b[0m\u001b[0m\n\u001b[0;32m     15\u001b[0m \u001b[1;32mfor\u001b[0m \u001b[0mi\u001b[0m \u001b[1;32min\u001b[0m \u001b[0mrange\u001b[0m\u001b[1;33m(\u001b[0m\u001b[1;36m1\u001b[0m\u001b[1;33m,\u001b[0m\u001b[0mnum_arg\u001b[0m\u001b[1;33m)\u001b[0m\u001b[1;33m:\u001b[0m\u001b[1;33m\u001b[0m\u001b[1;33m\u001b[0m\u001b[0m\n\u001b[1;32m---> 16\u001b[1;33m     \u001b[0mn\u001b[0m \u001b[1;33m=\u001b[0m  \u001b[0mint\u001b[0m\u001b[1;33m(\u001b[0m\u001b[0msys\u001b[0m\u001b[1;33m.\u001b[0m\u001b[0margv\u001b[0m\u001b[1;33m[\u001b[0m\u001b[0mi\u001b[0m\u001b[1;33m]\u001b[0m\u001b[1;33m)\u001b[0m\u001b[1;33m\u001b[0m\u001b[1;33m\u001b[0m\u001b[0m\n\u001b[0m\u001b[0;32m     17\u001b[0m     \u001b[0msum\u001b[0m \u001b[1;33m+=\u001b[0m \u001b[0mn\u001b[0m\u001b[1;33m\u001b[0m\u001b[1;33m\u001b[0m\u001b[0m\n\u001b[0;32m     18\u001b[0m \u001b[1;33m\u001b[0m\u001b[0m\n",
      "\u001b[1;31mValueError\u001b[0m: invalid literal for int() with base 10: '-f'"
     ]
    }
   ],
   "source": [
    "import sys\n",
    "\n",
    "num_arg = len(sys.argv)\n",
    "print(\"Number of Arguments : \", num_arg)\n",
    "\n",
    "print(\"\\nPython Script's Name : \", sys.argv[0])\n",
    "\n",
    "print(\"\\nArgument Passed : \", end = \" \")\n",
    "\n",
    "for i in range(1,num_arg):\n",
    "    print(sys.argv[i],end=\" \")\n",
    "\n",
    "sum = 0\n",
    "\n",
    "for i in range(1,num_arg):\n",
    "    n =  int(sys.argv[i])\n",
    "    sum += n\n",
    "    \n",
    "print(\"\\nSum of Arguments : \",sum)"
   ]
  },
  {
   "cell_type": "code",
   "execution_count": 7,
   "id": "ea518227",
   "metadata": {},
   "outputs": [
    {
     "name": "stderr",
     "output_type": "stream",
     "text": [
      "ERROR: Could not find a version that satisfies the requirement sys\n",
      "ERROR: No matching distribution found for sys\n"
     ]
    }
   ],
   "source": [
    "!pip install sys"
   ]
  },
  {
   "cell_type": "code",
   "execution_count": 14,
   "id": "57518e17",
   "metadata": {},
   "outputs": [
    {
     "name": "stdout",
     "output_type": "stream",
     "text": [
      "Enter number of elements : 2\n",
      "Enter value  0\n",
      "56\n",
      "Enter value  1\n",
      "43\n",
      "56\n",
      "43\n"
     ]
    }
   ],
   "source": [
    "list = []\n",
    " \n",
    "# number of elements as input\n",
    "n = int(input(\"Enter number of elements : \"))\n",
    " \n",
    "# iterating till the range\n",
    "for i in range(0, n):\n",
    "    print(\"Enter value \",i)\n",
    "    val = int(input())\n",
    "    list.append(val)\n",
    "     \n",
    "for i in range(0,n):\n",
    "    print(list[i])\n",
    "    #lst.append(ele) # adding the element\n",
    "     \n",
    "#print(lst)"
   ]
  },
  {
   "cell_type": "markdown",
   "id": "74ea3113",
   "metadata": {},
   "source": [
    "# "
   ]
  }
 ],
 "metadata": {
  "kernelspec": {
   "display_name": "Python 3",
   "language": "python",
   "name": "python3"
  },
  "language_info": {
   "codemirror_mode": {
    "name": "ipython",
    "version": 3
   },
   "file_extension": ".py",
   "mimetype": "text/x-python",
   "name": "python",
   "nbconvert_exporter": "python",
   "pygments_lexer": "ipython3",
   "version": "3.8.8"
  }
 },
 "nbformat": 4,
 "nbformat_minor": 5
}
