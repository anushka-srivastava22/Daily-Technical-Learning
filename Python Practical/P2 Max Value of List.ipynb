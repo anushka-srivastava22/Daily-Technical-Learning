{
 "cells": [
  {
   "cell_type": "code",
   "execution_count": 1,
   "id": "a3f63177",
   "metadata": {},
   "outputs": [
    {
     "name": "stdout",
     "output_type": "stream",
     "text": [
      "86\n"
     ]
    }
   ],
   "source": [
    "list = [22,30,76,86,28]\n",
    "list.sort()\n",
    "print(list[-1])"
   ]
  },
  {
   "cell_type": "code",
   "execution_count": 4,
   "id": "b0a578d5",
   "metadata": {},
   "outputs": [
    {
     "name": "stdout",
     "output_type": "stream",
     "text": [
      "96\n"
     ]
    }
   ],
   "source": [
    "list = [22,30,6,96,28]\n",
    "max_val = list[0]\n",
    "for i in list:\n",
    "        if i > max_val :\n",
    "             max_val = i\n",
    "                \n",
    "print(max_val)"
   ]
  },
  {
   "cell_type": "code",
   "execution_count": 5,
   "id": "a72527d4",
   "metadata": {},
   "outputs": [
    {
     "name": "stdout",
     "output_type": "stream",
     "text": [
      "Enter number of elements : 4\n",
      "Enter value  0\n",
      "34\n",
      "Enter value  1\n",
      "78\n",
      "Enter value  2\n",
      "65\n",
      "Enter value  3\n",
      "22\n",
      "78\n"
     ]
    }
   ],
   "source": [
    "list = []\n",
    " \n",
    "# number of elements as input\n",
    "n = int(input(\"Enter number of elements : \"))\n",
    " \n",
    "# iterating till the range\n",
    "for i in range(0, n):\n",
    "    print(\"Enter value \",i)\n",
    "    val = int(input())\n",
    "    list.append(val)\n",
    "\n",
    "max_val = list[0]\n",
    "for i in list:\n",
    "        if i > max_val :\n",
    "             max_val = i\n",
    "                \n",
    "print(max_val)"
   ]
  },
  {
   "cell_type": "code",
   "execution_count": null,
   "id": "df383aeb",
   "metadata": {},
   "outputs": [],
   "source": []
  }
 ],
 "metadata": {
  "kernelspec": {
   "display_name": "Python 3",
   "language": "python",
   "name": "python3"
  },
  "language_info": {
   "codemirror_mode": {
    "name": "ipython",
    "version": 3
   },
   "file_extension": ".py",
   "mimetype": "text/x-python",
   "name": "python",
   "nbconvert_exporter": "python",
   "pygments_lexer": "ipython3",
   "version": "3.8.8"
  }
 },
 "nbformat": 4,
 "nbformat_minor": 5
}
