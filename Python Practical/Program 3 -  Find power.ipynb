{
 "cells": [
  {
   "cell_type": "code",
   "execution_count": 5,
   "id": "e054e2aa",
   "metadata": {},
   "outputs": [
    {
     "name": "stdout",
     "output_type": "stream",
     "text": [
      "3\n",
      "6\n",
      "729\n"
     ]
    }
   ],
   "source": [
    "\n",
    "def findPower(x,n):\n",
    "    res = 1\n",
    "    while(n > 0):\n",
    "        if(n%2 == 0):\n",
    "            x = x * x\n",
    "            n = n / 2\n",
    "        else:\n",
    "            res = res*x\n",
    "            n = n-1\n",
    "    return res\n",
    "\n",
    "x = (int)(input())\n",
    "n = (int)(input())\n",
    "\n",
    "print((findPower(x,n)))"
   ]
  },
  {
   "cell_type": "code",
   "execution_count": 4,
   "id": "5efe786d",
   "metadata": {},
   "outputs": [
    {
     "name": "stdout",
     "output_type": "stream",
     "text": [
      "3\n",
      "3\n",
      "27\n"
     ]
    }
   ],
   "source": [
    "def findPower(x,n):\n",
    "    return pow(x,n)\n",
    "\n",
    "x = (int)(input())\n",
    "n = (int)(input())\n",
    "\n",
    "print((findPower(x,n)))"
   ]
  },
  {
   "cell_type": "code",
   "execution_count": null,
   "id": "b0d60b1f",
   "metadata": {},
   "outputs": [],
   "source": []
  }
 ],
 "metadata": {
  "kernelspec": {
   "display_name": "Python 3",
   "language": "python",
   "name": "python3"
  },
  "language_info": {
   "codemirror_mode": {
    "name": "ipython",
    "version": 3
   },
   "file_extension": ".py",
   "mimetype": "text/x-python",
   "name": "python",
   "nbconvert_exporter": "python",
   "pygments_lexer": "ipython3",
   "version": "3.8.8"
  }
 },
 "nbformat": 4,
 "nbformat_minor": 5
}
