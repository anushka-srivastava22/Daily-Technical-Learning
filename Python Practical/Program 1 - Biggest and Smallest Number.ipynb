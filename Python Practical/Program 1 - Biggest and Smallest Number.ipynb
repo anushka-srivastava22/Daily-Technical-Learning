{
 "cells": [
  {
   "cell_type": "code",
   "execution_count": 3,
   "id": "3c895a9f",
   "metadata": {},
   "outputs": [
    {
     "name": "stdout",
     "output_type": "stream",
     "text": [
      "3\n",
      "5\n",
      "Largest number is 5\n",
      "Smallest number is 3\n"
     ]
    }
   ],
   "source": [
    "num1 = (int)(input()) #Taking first number as input\n",
    "num2 = (int)(input()) #Taking second number as input\n",
    "\n",
    "#Checking and Printing Biggest and Smallest Number\n",
    "\n",
    "if num1 > num2:\n",
    "    print(\"Largest number is\",num1)\n",
    "    print(\"Smallest number is\",num2)\n",
    "else:\n",
    "    \n",
    "    print(\"Largest number is\",num2)\n",
    "    print(\"Smallest number is\",num1)"
   ]
  },
  {
   "cell_type": "code",
   "execution_count": null,
   "id": "afd6c311",
   "metadata": {},
   "outputs": [],
   "source": []
  }
 ],
 "metadata": {
  "kernelspec": {
   "display_name": "Python 3",
   "language": "python",
   "name": "python3"
  },
  "language_info": {
   "codemirror_mode": {
    "name": "ipython",
    "version": 3
   },
   "file_extension": ".py",
   "mimetype": "text/x-python",
   "name": "python",
   "nbconvert_exporter": "python",
   "pygments_lexer": "ipython3",
   "version": "3.8.8"
  }
 },
 "nbformat": 4,
 "nbformat_minor": 5
}
