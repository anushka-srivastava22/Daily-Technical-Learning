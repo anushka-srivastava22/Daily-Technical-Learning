{
 "cells": [
  {
   "cell_type": "code",
   "execution_count": null,
   "id": "32cd155b",
   "metadata": {},
   "outputs": [],
   "source": [
    "from kivymd.app import MDApp\n",
    "from kivymd.uix.screen import Screen\n",
    "from kivymd.uix.button import MDRectangleFlatButton, MDFlatButton\n",
    "from kivy.lang import Builder\n",
    "from kivymd.uix.dialog import MDDialog\n",
    "import helpers\n",
    "\n",
    "\n",
    "class DemoApp(MDApp):\n",
    "\n",
    "    def build(self):\n",
    "        self.theme_cls.primary_palette = \"Green\"\n",
    "        screen = Screen()\n",
    "\n",
    "        self.username = Builder.load_string(helpers.username_input)\n",
    "        button = MDRectangleFlatButton(text='Show',\n",
    "                                       pos_hint={'center_x': 0.5, 'center_y': 0.5},\n",
    "                                       on_release=self.show_data)\n",
    "        screen.add_widget(self.username)\n",
    "        screen.add_widget(button)\n",
    "        return screen\n",
    "\n",
    "    def show_data(self, obj):\n",
    "        if self.username.text is not \"\":\n",
    "            user_error = self.username.text + \" user does not exist.\"\n",
    "        else:\n",
    "            user_error = \"Please enter a username\"\n",
    "        self.dialog = MDDialog(title='Username check',\n",
    "                               text=user_error, size_hint=(0.8, 1),\n",
    "                               buttons=[MDFlatButton(text='Close', on_release=self.close_dialog),\n",
    "                                        MDFlatButton(text='More')]\n",
    "                               )\n",
    "        self.dialog.open()\n",
    "\n",
    "    def close_dialog(self, obj):\n",
    "        self.dialog.dismiss()\n",
    "        # do stuff after closing the dialog\n",
    "\n",
    "\n",
    "DemoApp().run()\n"
   ]
  }
 ],
 "metadata": {
  "kernelspec": {
   "display_name": "Python 3",
   "language": "python",
   "name": "python3"
  },
  "language_info": {
   "codemirror_mode": {
    "name": "ipython",
    "version": 3
   },
   "file_extension": ".py",
   "mimetype": "text/x-python",
   "name": "python",
   "nbconvert_exporter": "python",
   "pygments_lexer": "ipython3",
   "version": "3.8.8"
  }
 },
 "nbformat": 4,
 "nbformat_minor": 5
}
